{
 "cells": [
  {
   "cell_type": "markdown",
   "id": "349745f1",
   "metadata": {
    "pycharm": {
     "name": "#%% md\n"
    }
   },
   "source": [
    "### Threshold classificitaion\n",
    "\n",
    "For each measure in ['lp', 'mean_lp', 'pen_lp', 'div_lp', 'sub_lp','slor', 'pen_slor'] (for gpt only ['lp', 'mean_lp', 'pen_lp'])\n",
    "\n",
    "+ split the train set in proportions 9:1\n",
    "+ calculate min and max value of the measure, split it into 100 bins\n",
    "+ find the best threshold by mcc on 9/10 of the train set, evaluate it on 1/10 of train set.\n",
    "+ for current model and current measure choose threshold which has the biggest mcc on 1/10 of the train set.\n",
    "\n",
    "Then, choose the best pair of model and measure by mcc on the dev set. Evaluate final model and measure on the test set."
   ]
  },
  {
   "cell_type": "code",
   "execution_count": 1,
   "id": "4afbeea3",
   "metadata": {
    "pycharm": {
     "name": "#%%\n"
    }
   },
   "outputs": [],
   "source": [
    "from math import ceil\n",
    "\n",
    "from sklearn.linear_model import LogisticRegression\n",
    "from sklearn.metrics import f1_score, accuracy_score, recall_score, precision_score, matthews_corrcoef\n",
    "import pandas as pd\n",
    "import numpy as np\n",
    "%matplotlib inline\n",
    "np.random.seed(10)\n",
    "\n",
    "def read_train_dev(model_res, path_to_files = 'results_for_splits'):\n",
    "    train = pd.read_csv(f'{path_to_files}/in_domain_train_{model_res}')\n",
    "    in_dev = pd.read_csv(f'{path_to_files}/in_domain_dev_{model_res}')\n",
    "    out_dev = pd.read_csv(f'{path_to_files}/out_of_domain_dev_{model_res}')\n",
    "    \n",
    "    train.columns = list(map(lambda x: x.strip(), train.columns))\n",
    "    in_dev.columns = list(map(lambda x: x.strip(), in_dev.columns))\n",
    "    out_dev.columns = list(map(lambda x: x.strip(), out_dev.columns))   \n",
    "    return train, in_dev, out_dev\n",
    "\n",
    "\n",
    "def read_test(model_res, path_to_files = 'results_for_splits'):\n",
    "    in_test = pd.read_csv(f'{path_to_files}/in_domain_test_{model_res}')\n",
    "    out_test = pd.read_csv(f'{path_to_files}/out_of_domain_test_{model_res}')\n",
    "    in_test.columns = list(map(lambda x: x.strip(), in_test.columns))\n",
    "    out_test.columns = list(map(lambda x: x.strip(), out_test.columns))\n",
    "    return in_test, out_test\n",
    "\n",
    "\n",
    "def reshape(x):\n",
    "    return x.to_numpy().reshape(-1, 1)\n",
    "\n",
    "\n",
    "def mcc_by_threshold(th, vec, labels, neg=False):\n",
    "    \n",
    "    if neg:\n",
    "        pred = np.where(vec>th, 0, 1)\n",
    "    else:\n",
    "        pred = np.where(vec<th, 0, 1)\n",
    "    return round(matthews_corrcoef(labels, pred),2)\n",
    "\n",
    "\n",
    "def acc_by_threshold(th, vec, labels, neg=False):\n",
    "    if neg:\n",
    "        pred = np.where(vec>th, 0, 1)\n",
    "    else:\n",
    "        pred = np.where(vec<th, 0, 1)\n",
    "    return round(accuracy_score(labels, pred)*100,2)\n",
    "\n",
    "\n",
    "def folds_generator(data, n_folds=10):\n",
    "    data = data.sample(frac=1)\n",
    "    len_fold = ceil(len(data) / n_folds)\n",
    "    for i in range(n_folds):\n",
    "        # (n_fold-1)/n_fold, 1/n_fold\n",
    "        yield data[i*len_fold:(i+1)*len_fold], pd.concat([data[:i*len_fold], data[(i+1)*len_fold:]])\n",
    "\n",
    "        \n",
    "def best_threshold_feature(data_train, model_res, measure):\n",
    "    min_mean_lp, max_mean_lp = min(data_train[measure]), max(data_train[measure])\n",
    "\n",
    "    thres = np.linspace(min_mean_lp, max_mean_lp, 100)\n",
    "\n",
    "    mccs, threshold = [], []\n",
    "\n",
    "    if np.mean(data_train[data_train['level-1'] == 0][measure]) > np.mean(data_train[data_train['level-1'] == 1][measure]):\n",
    "        neg=True\n",
    "    else:\n",
    "        neg=False\n",
    "\n",
    "    for train, test in folds_generator(data_train):\n",
    "\n",
    "        best_mcc, best_threshold = -10, -1\n",
    "        for th in thres:\n",
    "            mcc = mcc_by_threshold(th, data_train[measure], data_train['level-1'], neg=neg)\n",
    "            if mcc > best_mcc:\n",
    "                best_mcc, best_threshold = mcc, th\n",
    "\n",
    "        if neg:\n",
    "            pred = np.where(test[measure]>best_threshold,0,1)\n",
    "        else:\n",
    "            pred = np.where(test[measure]<best_threshold,0,1)\n",
    "        \n",
    "        test_mcc = matthews_corrcoef(test['level-1'], pred)\n",
    "        mccs.append(test_mcc)\n",
    "        threshold.append(best_threshold)\n",
    "        \n",
    "    best_th = threshold[np.argmax(mccs)]\n",
    "    return np.max(mccs), best_th, neg"
   ]
  },
  {
   "cell_type": "code",
   "execution_count": 2,
   "id": "5da374d7",
   "metadata": {
    "pycharm": {
     "name": "#%%\n"
    }
   },
   "outputs": [],
   "source": [
    "def best_feature_model(model_res, train_data):\n",
    "    if model_res.find('gpt') < 0:\n",
    "        metrics = ['lp', 'mean_lp', 'pen_lp', 'div_lp', 'sub_lp','slor', 'pen_slor']\n",
    "    else:\n",
    "        metrics = ['lp', 'mean_lp', 'pen_lp']\n",
    "    \n",
    "    best_mcc, best_metric, best_th, best_neg = -10, 0, 0, 0\n",
    "    for metric in metrics:\n",
    "        mcc, th, neg = best_threshold_feature(train_data, model_res, metric)\n",
    "        if mcc > best_mcc:\n",
    "            best_mcc = mcc\n",
    "            best_metric = metric\n",
    "            best_th = th\n",
    "            best_neg = neg\n",
    "            \n",
    "    return best_mcc, best_metric, best_th, best_neg"
   ]
  },
  {
   "cell_type": "code",
   "execution_count": 3,
   "id": "003bf32d",
   "metadata": {
    "pycharm": {
     "name": "#%%\n"
    }
   },
   "outputs": [],
   "source": [
    "def results_for_models(models):\n",
    "    \n",
    "    best_thresholds, best_metrics, best_neg = [], [], []\n",
    "    \n",
    "    for model in models:\n",
    "        data_train, in_dev, out_dev = read_train_dev(model)\n",
    "        best_mcc, best_metric, best_th, neg = best_feature_model(model, data_train)\n",
    "        \n",
    "        best_metrics.append(best_metric)\n",
    "        best_thresholds.append(best_th)\n",
    "        best_neg.append(neg)\n",
    "        \n",
    "        in_dev_mcc = mcc_by_threshold(best_th, in_dev[best_metric], in_dev['level-1'], neg=neg)\n",
    "        out_dev_mcc = mcc_by_threshold(best_th, out_dev[best_metric], out_dev['level-1'], neg=neg)\n",
    "        in_dev_acc = acc_by_threshold(best_th, in_dev[best_metric], in_dev['level-1'], neg=neg)\n",
    "        out_dev_acc = acc_by_threshold(best_th, out_dev[best_metric], out_dev['level-1'], neg=neg)\n",
    "        print(f'{model}')  \n",
    "        print(f'metric:{best_metric}, th:{best_th}, (lp0 <= lp1):{not neg}')\n",
    "        print(f'in_dev_mcc:{in_dev_mcc}, out_dev_mcc:{out_dev_mcc}')\n",
    "        print(f'in_dev_accuracy:{in_dev_acc}, out_dev_accuracy:{out_dev_acc}')\n",
    "        print()\n",
    "    \n",
    "    return best_metrics, best_thresholds, best_neg"
   ]
  },
  {
   "cell_type": "code",
   "execution_count": 4,
   "id": "699a317c",
   "metadata": {
    "pycharm": {
     "name": "#%%\n"
    }
   },
   "outputs": [
    {
     "name": "stdout",
     "output_type": "stream",
     "text": [
      "gpt3large_lp.csv\n",
      "metric:pen_lp, th:-19.392876548936357, (lp0 <= lp1):True\n",
      "in_dev_mcc:0.22, out_dev_mcc:0.3\n",
      "in_dev_accuracy:60.53, out_dev_accuracy:54.6\n",
      "\n",
      "gpt3medium_lp.csv\n",
      "metric:pen_lp, th:-20.917358836600652, (lp0 <= lp1):True\n",
      "in_dev_mcc:0.21, out_dev_mcc:0.28\n",
      "in_dev_accuracy:59.72, out_dev_accuracy:53.16\n",
      "\n",
      "mbert_lp.csv\n",
      "metric:sub_lp, th:120.32743482420615, (lp0 <= lp1):False\n",
      "in_dev_mcc:0.22, out_dev_mcc:0.16\n",
      "in_dev_accuracy:70.19, out_dev_accuracy:55.99\n",
      "\n",
      "xlm_lp.csv\n",
      "metric:sub_lp, th:105.49600791919045, (lp0 <= lp1):False\n",
      "in_dev_mcc:0.21, out_dev_mcc:0.16\n",
      "in_dev_accuracy:69.28, out_dev_accuracy:56.32\n",
      "\n"
     ]
    }
   ],
   "source": [
    "best_metrics, best_thresholds, best_neg = results_for_models(\n",
    "    ['gpt3large_lp.csv','gpt3medium_lp.csv','mbert_lp.csv','xlm_lp.csv']\n",
    ")"
   ]
  },
  {
   "cell_type": "code",
   "execution_count": 5,
   "id": "4ccff3b0",
   "metadata": {
    "pycharm": {
     "name": "#%%\n"
    }
   },
   "outputs": [
    {
     "name": "stdout",
     "output_type": "stream",
     "text": [
      "in-domain test\n",
      "mcc:  0.19\n",
      "accuracy:  59.39\n",
      "\n",
      "out-of-domain test\n",
      "mcc:  0.3\n",
      "accuracy:  53.82\n",
      "\n",
      "overall\n",
      "mcc:  0.27\n",
      "accuracy:  55.79\n"
     ]
    }
   ],
   "source": [
    "# results on test\n",
    "\n",
    "in_test, out_test = read_test('gpt3medium_lp.csv')\n",
    "th = best_thresholds[1]\n",
    "metric=best_metrics[1]\n",
    "neg=best_neg[1]\n",
    "\n",
    "print('in-domain test')\n",
    "print('mcc: ', mcc_by_threshold(th, in_test[metric], in_test['level-1'], neg=neg))\n",
    "print('accuracy: ', acc_by_threshold(th, in_test[metric], in_test['level-1'], neg=neg))\n",
    "print()\n",
    "print('out-of-domain test')\n",
    "print('mcc: ', mcc_by_threshold(th, out_test[metric], out_test['level-1'], neg=neg))\n",
    "print('accuracy: ', acc_by_threshold(th, out_test[metric], out_test['level-1'], neg=neg))\n",
    "print()\n",
    "\n",
    "overall_preds = pd.concat([in_test[metric],out_test[metric]])\n",
    "overall_targets = pd.concat([in_test['level-1'],out_test['level-1']])\n",
    "\n",
    "print('overall')\n",
    "print('mcc: ', mcc_by_threshold(th, overall_preds, overall_targets, neg=neg))\n",
    "print('accuracy: ', acc_by_threshold(th, overall_preds, overall_targets, neg=neg))"
   ]
  },
  {
   "cell_type": "code",
   "execution_count": 6,
   "id": "0558fe2c",
   "metadata": {
    "pycharm": {
     "name": "#%%\n"
    }
   },
   "outputs": [],
   "source": [
    "threshold_preds = ((overall_preds > th)*(1-neg))"
   ]
  },
  {
   "cell_type": "code",
   "execution_count": 7,
   "id": "f5ed07dc",
   "metadata": {
    "pycharm": {
     "name": "#%%\n"
    }
   },
   "outputs": [
    {
     "data": {
      "text/plain": [
       "0.5579060595195411"
      ]
     },
     "execution_count": 7,
     "metadata": {},
     "output_type": "execute_result"
    }
   ],
   "source": [
    "accuracy_score(threshold_preds, overall_targets)"
   ]
  },
  {
   "cell_type": "code",
   "execution_count": 8,
   "id": "90cb5c2b",
   "metadata": {
    "pycharm": {
     "name": "#%%\n"
    }
   },
   "outputs": [],
   "source": [
    "threshold_preds.to_csv(\"threshold_preds.csv\", header=\"prediction\")"
   ]
  },
  {
   "cell_type": "code",
   "execution_count": 9,
   "id": "0616d258",
   "metadata": {
    "pycharm": {
     "name": "#%%\n"
    }
   },
   "outputs": [
    {
     "data": {
      "text/plain": [
       "0     -18.518335\n",
       "1     -19.654421\n",
       "2     -19.589716\n",
       "3     -28.264702\n",
       "4     -20.709181\n",
       "         ...    \n",
       "980   -27.489809\n",
       "981   -19.223532\n",
       "982   -15.608055\n",
       "983   -16.670830\n",
       "984   -20.855131\n",
       "Name: pen_lp, Length: 985, dtype: float64"
      ]
     },
     "execution_count": 9,
     "metadata": {},
     "output_type": "execute_result"
    }
   ],
   "source": [
    "in_test[metric]"
   ]
  },
  {
   "cell_type": "markdown",
   "id": "1a869489",
   "metadata": {
    "pycharm": {
     "name": "#%% md\n"
    }
   },
   "source": [
    "## Figures"
   ]
  },
  {
   "cell_type": "code",
   "execution_count": 10,
   "id": "7b771534",
   "metadata": {
    "pycharm": {
     "name": "#%%\n"
    }
   },
   "outputs": [],
   "source": [
    "import seaborn as sns\n",
    "import matplotlib.pyplot as plt\n",
    "from pylab import rcParams\n",
    "\n",
    "def plot_metric(train, in_dev, out_dev, metric, thresh):\n",
    "    \n",
    "    rcParams['figure.figsize'] = 20, 6\n",
    "\n",
    "    sns.set_style(\"whitegrid\")\n",
    "    fig,axes = plt.subplots(1,3)\n",
    "    ax = sns.histplot(train, x=metric, hue=\"is_acceptable\", stat=\"density\", common_norm=False, ax=axes[0], bins=30).set_title('In-domain train')\n",
    "    axes[0].axvline(th, color='red')\n",
    "    ax = sns.histplot(in_dev, x=metric, hue=\"is_acceptable\", stat=\"density\", common_norm=False, ax=axes[1], bins=30).set_title('In-domain dev')\n",
    "    axes[1].axvline(th, color='red')\n",
    "    ax = sns.histplot(out_dev, x=metric, hue=\"is_acceptable\", stat=\"density\", common_norm=False, ax=axes[2], bins=30).set_title('Out-of-domain dev')\n",
    "    axes[2].axvline(th, color='red')"
   ]
  },
  {
   "cell_type": "markdown",
   "id": "db2192c8",
   "metadata": {
    "pycharm": {
     "name": "#%% md\n"
    }
   },
   "source": [
    "results for the model **gpt3medium**"
   ]
  },
  {
   "cell_type": "code",
   "execution_count": 11,
   "id": "4300b3f1",
   "metadata": {
    "pycharm": {
     "name": "#%%\n"
    }
   },
   "outputs": [],
   "source": [
    "train, in_dev, out_dev = read_train_dev('gpt3medium_lp.csv')\n",
    "\n",
    "train.rename({'level-1':'is_acceptable'}, inplace=True, axis=1)\n",
    "in_dev.rename({'level-1':'is_acceptable'}, inplace=True, axis=1)\n",
    "out_dev.rename({'level-1':'is_acceptable'}, inplace=True, axis=1)"
   ]
  },
  {
   "cell_type": "code",
   "execution_count": 12,
   "id": "a0682656",
   "metadata": {
    "pycharm": {
     "name": "#%%\n"
    }
   },
   "outputs": [
    {
     "data": {
      "image/png": "[encoded data removed]",
      "text/plain": [
       "<Figure size 1440x432 with 3 Axes>"
      ]
     },
     "metadata": {},
     "output_type": "display_data"
    }
   ],
   "source": [
    "for metric in ['pen_lp']:\n",
    "    plot_metric(train, in_dev, out_dev, metric, th)"
   ]
  }
 ],
 "metadata": {
  "kernelspec": {
   "display_name": "Python 3 (ipykernel)",
   "language": "python",
   "name": "python3"
  },
  "language_info": {
   "codemirror_mode": {
    "name": "ipython",
    "version": 3
   },
   "file_extension": ".py",
   "mimetype": "text/x-python",
   "name": "python",
   "nbconvert_exporter": "python",
   "pygments_lexer": "ipython3",
   "version": "3.9.12"
  }
 },
 "nbformat": 4,
 "nbformat_minor": 5
}